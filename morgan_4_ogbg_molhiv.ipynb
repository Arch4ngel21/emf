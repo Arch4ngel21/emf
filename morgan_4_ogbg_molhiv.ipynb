{
 "cells": [
  {
   "cell_type": "code",
   "execution_count": 1,
   "id": "73d3d1e3",
   "metadata": {},
   "outputs": [
    {
     "name": "stdout",
     "output_type": "stream",
     "text": [
      "Requirement already satisfied: torch_geometric in c:\\users\\piotr\\anaconda3\\envs\\py10\\lib\\site-packages (2.3.1)\n",
      "Requirement already satisfied: scikit-learn in c:\\users\\piotr\\anaconda3\\envs\\py10\\lib\\site-packages (from torch_geometric) (1.2.2)\n",
      "Requirement already satisfied: numpy in c:\\users\\piotr\\anaconda3\\envs\\py10\\lib\\site-packages (from torch_geometric) (1.25.0)\n",
      "Requirement already satisfied: pyparsing in c:\\users\\piotr\\anaconda3\\envs\\py10\\lib\\site-packages (from torch_geometric) (3.0.4)\n",
      "Requirement already satisfied: requests in c:\\users\\piotr\\anaconda3\\envs\\py10\\lib\\site-packages (from torch_geometric) (2.28.1)\n",
      "Requirement already satisfied: scipy in c:\\users\\piotr\\anaconda3\\envs\\py10\\lib\\site-packages (from torch_geometric) (1.10.1)\n",
      "Requirement already satisfied: jinja2 in c:\\users\\piotr\\anaconda3\\envs\\py10\\lib\\site-packages (from torch_geometric) (3.0.3)\n",
      "Requirement already satisfied: tqdm in c:\\users\\piotr\\anaconda3\\envs\\py10\\lib\\site-packages (from torch_geometric) (4.64.1)\n",
      "Requirement already satisfied: psutil>=5.8.0 in c:\\users\\piotr\\anaconda3\\envs\\py10\\lib\\site-packages (from torch_geometric) (5.9.4)\n",
      "Requirement already satisfied: MarkupSafe>=2.0 in c:\\users\\piotr\\anaconda3\\envs\\py10\\lib\\site-packages (from jinja2->torch_geometric) (2.0.1)\n",
      "Requirement already satisfied: urllib3<1.27,>=1.21.1 in c:\\users\\piotr\\anaconda3\\envs\\py10\\lib\\site-packages (from requests->torch_geometric) (1.26.13)\n",
      "Requirement already satisfied: charset-normalizer<3,>=2 in c:\\users\\piotr\\anaconda3\\envs\\py10\\lib\\site-packages (from requests->torch_geometric) (2.1.1)\n",
      "Requirement already satisfied: certifi>=2017.4.17 in c:\\users\\piotr\\anaconda3\\envs\\py10\\lib\\site-packages (from requests->torch_geometric) (2022.9.24)\n",
      "Requirement already satisfied: idna<4,>=2.5 in c:\\users\\piotr\\anaconda3\\envs\\py10\\lib\\site-packages (from requests->torch_geometric) (3.4)\n",
      "Requirement already satisfied: joblib>=1.1.1 in c:\\users\\piotr\\anaconda3\\envs\\py10\\lib\\site-packages (from scikit-learn->torch_geometric) (1.2.0)\n",
      "Requirement already satisfied: threadpoolctl>=2.0.0 in c:\\users\\piotr\\anaconda3\\envs\\py10\\lib\\site-packages (from scikit-learn->torch_geometric) (3.1.0)\n",
      "Requirement already satisfied: colorama in c:\\users\\piotr\\anaconda3\\envs\\py10\\lib\\site-packages (from tqdm->torch_geometric) (0.4.4)\n",
      "Requirement already satisfied: torch-scatter in c:\\users\\piotr\\anaconda3\\envs\\py10\\lib\\site-packages (2.1.1)\n",
      "Requirement already satisfied: torch-sparse in c:\\users\\piotr\\anaconda3\\envs\\py10\\lib\\site-packages (0.6.17)\n",
      "Requirement already satisfied: scipy in c:\\users\\piotr\\anaconda3\\envs\\py10\\lib\\site-packages (from torch-sparse) (1.10.1)\n",
      "Requirement already satisfied: numpy<1.27.0,>=1.19.5 in c:\\users\\piotr\\anaconda3\\envs\\py10\\lib\\site-packages (from scipy->torch-sparse) (1.25.0)\n",
      "Requirement already satisfied: pandas in c:\\users\\piotr\\anaconda3\\envs\\py10\\lib\\site-packages (2.0.2)\n",
      "Requirement already satisfied: numpy>=1.21.0 in c:\\users\\piotr\\anaconda3\\envs\\py10\\lib\\site-packages (from pandas) (1.25.0)\n",
      "Requirement already satisfied: pytz>=2020.1 in c:\\users\\piotr\\anaconda3\\envs\\py10\\lib\\site-packages (from pandas) (2021.3)\n",
      "Requirement already satisfied: tzdata>=2022.1 in c:\\users\\piotr\\anaconda3\\envs\\py10\\lib\\site-packages (from pandas) (2023.3)\n",
      "Requirement already satisfied: python-dateutil>=2.8.2 in c:\\users\\piotr\\anaconda3\\envs\\py10\\lib\\site-packages (from pandas) (2.8.2)\n",
      "Requirement already satisfied: six>=1.5 in c:\\users\\piotr\\anaconda3\\envs\\py10\\lib\\site-packages (from python-dateutil>=2.8.2->pandas) (1.16.0)\n",
      "Requirement already satisfied: numpy in c:\\users\\piotr\\anaconda3\\envs\\py10\\lib\\site-packages (1.25.0)\n",
      "Requirement already satisfied: matplotlib in c:\\users\\piotr\\anaconda3\\envs\\py10\\lib\\site-packages (3.7.1)\n",
      "Requirement already satisfied: pillow>=6.2.0 in c:\\users\\piotr\\anaconda3\\envs\\py10\\lib\\site-packages (from matplotlib) (9.1.1)\n",
      "Requirement already satisfied: kiwisolver>=1.0.1 in c:\\users\\piotr\\anaconda3\\envs\\py10\\lib\\site-packages (from matplotlib) (1.4.2)\n",
      "Requirement already satisfied: cycler>=0.10 in c:\\users\\piotr\\anaconda3\\envs\\py10\\lib\\site-packages (from matplotlib) (0.11.0)\n",
      "Requirement already satisfied: numpy>=1.20 in c:\\users\\piotr\\anaconda3\\envs\\py10\\lib\\site-packages (from matplotlib) (1.25.0)\n",
      "Requirement already satisfied: fonttools>=4.22.0 in c:\\users\\piotr\\anaconda3\\envs\\py10\\lib\\site-packages (from matplotlib) (4.33.3)\n",
      "Requirement already satisfied: pyparsing>=2.3.1 in c:\\users\\piotr\\anaconda3\\envs\\py10\\lib\\site-packages (from matplotlib) (3.0.4)\n",
      "Requirement already satisfied: python-dateutil>=2.7 in c:\\users\\piotr\\anaconda3\\envs\\py10\\lib\\site-packages (from matplotlib) (2.8.2)\n",
      "Requirement already satisfied: packaging>=20.0 in c:\\users\\piotr\\anaconda3\\envs\\py10\\lib\\site-packages (from matplotlib) (23.1)\n",
      "Requirement already satisfied: contourpy>=1.0.1 in c:\\users\\piotr\\anaconda3\\envs\\py10\\lib\\site-packages (from matplotlib) (1.1.0)\n",
      "Requirement already satisfied: six>=1.5 in c:\\users\\piotr\\anaconda3\\envs\\py10\\lib\\site-packages (from python-dateutil>=2.7->matplotlib) (1.16.0)\n",
      "Requirement already satisfied: sklearn in c:\\users\\piotr\\anaconda3\\envs\\py10\\lib\\site-packages (0.0.post5)\n",
      "Requirement already satisfied: PyTDC in c:\\users\\piotr\\anaconda3\\envs\\py10\\lib\\site-packages (0.4.0)\n",
      "Requirement already satisfied: seaborn in c:\\users\\piotr\\anaconda3\\envs\\py10\\lib\\site-packages (from PyTDC) (0.11.2)\n",
      "Requirement already satisfied: requests in c:\\users\\piotr\\anaconda3\\envs\\py10\\lib\\site-packages (from PyTDC) (2.28.1)\n",
      "Requirement already satisfied: fuzzywuzzy in c:\\users\\piotr\\anaconda3\\envs\\py10\\lib\\site-packages (from PyTDC) (0.18.0)\n",
      "Requirement already satisfied: pandas in c:\\users\\piotr\\anaconda3\\envs\\py10\\lib\\site-packages (from PyTDC) (2.0.2)\n",
      "Requirement already satisfied: tqdm in c:\\users\\piotr\\anaconda3\\envs\\py10\\lib\\site-packages (from PyTDC) (4.64.1)\n",
      "Requirement already satisfied: rdkit-pypi in c:\\users\\piotr\\anaconda3\\envs\\py10\\lib\\site-packages (from PyTDC) (2022.3.4)\n",
      "Requirement already satisfied: huggingface-hub in c:\\users\\piotr\\anaconda3\\envs\\py10\\lib\\site-packages (from PyTDC) (0.11.1)\n",
      "Requirement already satisfied: scikit-learn in c:\\users\\piotr\\anaconda3\\envs\\py10\\lib\\site-packages (from PyTDC) (1.2.2)\n",
      "Requirement already satisfied: dataclasses in c:\\users\\piotr\\anaconda3\\envs\\py10\\lib\\site-packages (from PyTDC) (0.6)\n",
      "Requirement already satisfied: numpy in c:\\users\\piotr\\anaconda3\\envs\\py10\\lib\\site-packages (from PyTDC) (1.25.0)\n",
      "Requirement already satisfied: pyyaml>=5.1 in c:\\users\\piotr\\anaconda3\\envs\\py10\\lib\\site-packages (from huggingface-hub->PyTDC) (6.0)\n",
      "Requirement already satisfied: packaging>=20.9 in c:\\users\\piotr\\anaconda3\\envs\\py10\\lib\\site-packages (from huggingface-hub->PyTDC) (23.1)\n",
      "Requirement already satisfied: typing-extensions>=3.7.4.3 in c:\\users\\piotr\\anaconda3\\envs\\py10\\lib\\site-packages (from huggingface-hub->PyTDC) (4.1.1)\n",
      "Requirement already satisfied: filelock in c:\\users\\piotr\\anaconda3\\envs\\py10\\lib\\site-packages (from huggingface-hub->PyTDC) (3.9.0)\n",
      "Requirement already satisfied: python-dateutil>=2.8.2 in c:\\users\\piotr\\anaconda3\\envs\\py10\\lib\\site-packages (from pandas->PyTDC) (2.8.2)\n",
      "Requirement already satisfied: pytz>=2020.1 in c:\\users\\piotr\\anaconda3\\envs\\py10\\lib\\site-packages (from pandas->PyTDC) (2021.3)\n",
      "Requirement already satisfied: tzdata>=2022.1 in c:\\users\\piotr\\anaconda3\\envs\\py10\\lib\\site-packages (from pandas->PyTDC) (2023.3)\n",
      "Requirement already satisfied: six>=1.5 in c:\\users\\piotr\\anaconda3\\envs\\py10\\lib\\site-packages (from python-dateutil>=2.8.2->pandas->PyTDC) (1.16.0)\n",
      "Requirement already satisfied: Pillow in c:\\users\\piotr\\anaconda3\\envs\\py10\\lib\\site-packages (from rdkit-pypi->PyTDC) (9.1.1)\n",
      "Requirement already satisfied: certifi>=2017.4.17 in c:\\users\\piotr\\anaconda3\\envs\\py10\\lib\\site-packages (from requests->PyTDC) (2022.9.24)\n",
      "Requirement already satisfied: charset-normalizer<3,>=2 in c:\\users\\piotr\\anaconda3\\envs\\py10\\lib\\site-packages (from requests->PyTDC) (2.1.1)\n",
      "Requirement already satisfied: urllib3<1.27,>=1.21.1 in c:\\users\\piotr\\anaconda3\\envs\\py10\\lib\\site-packages (from requests->PyTDC) (1.26.13)\n",
      "Requirement already satisfied: idna<4,>=2.5 in c:\\users\\piotr\\anaconda3\\envs\\py10\\lib\\site-packages (from requests->PyTDC) (3.4)\n",
      "Requirement already satisfied: scipy>=1.3.2 in c:\\users\\piotr\\anaconda3\\envs\\py10\\lib\\site-packages (from scikit-learn->PyTDC) (1.10.1)\n",
      "Requirement already satisfied: joblib>=1.1.1 in c:\\users\\piotr\\anaconda3\\envs\\py10\\lib\\site-packages (from scikit-learn->PyTDC) (1.2.0)\n",
      "Requirement already satisfied: threadpoolctl>=2.0.0 in c:\\users\\piotr\\anaconda3\\envs\\py10\\lib\\site-packages (from scikit-learn->PyTDC) (3.1.0)\n",
      "Requirement already satisfied: matplotlib>=2.2 in c:\\users\\piotr\\anaconda3\\envs\\py10\\lib\\site-packages (from seaborn->PyTDC) (3.7.1)\n",
      "Requirement already satisfied: kiwisolver>=1.0.1 in c:\\users\\piotr\\anaconda3\\envs\\py10\\lib\\site-packages (from matplotlib>=2.2->seaborn->PyTDC) (1.4.2)\n",
      "Requirement already satisfied: cycler>=0.10 in c:\\users\\piotr\\anaconda3\\envs\\py10\\lib\\site-packages (from matplotlib>=2.2->seaborn->PyTDC) (0.11.0)\n",
      "Requirement already satisfied: contourpy>=1.0.1 in c:\\users\\piotr\\anaconda3\\envs\\py10\\lib\\site-packages (from matplotlib>=2.2->seaborn->PyTDC) (1.1.0)\n",
      "Requirement already satisfied: pyparsing>=2.3.1 in c:\\users\\piotr\\anaconda3\\envs\\py10\\lib\\site-packages (from matplotlib>=2.2->seaborn->PyTDC) (3.0.4)\n",
      "Requirement already satisfied: fonttools>=4.22.0 in c:\\users\\piotr\\anaconda3\\envs\\py10\\lib\\site-packages (from matplotlib>=2.2->seaborn->PyTDC) (4.33.3)\n",
      "Requirement already satisfied: colorama in c:\\users\\piotr\\anaconda3\\envs\\py10\\lib\\site-packages (from tqdm->PyTDC) (0.4.4)\n"
     ]
    },
    {
     "name": "stdout",
     "output_type": "stream",
     "text": [
      "Requirement already satisfied: pre-commit in c:\\users\\piotr\\anaconda3\\envs\\py10\\lib\\site-packages (3.3.3)\n",
      "Requirement already satisfied: nodeenv>=0.11.1 in c:\\users\\piotr\\anaconda3\\envs\\py10\\lib\\site-packages (from pre-commit) (1.7.0)\n",
      "Requirement already satisfied: identify>=1.0.0 in c:\\users\\piotr\\anaconda3\\envs\\py10\\lib\\site-packages (from pre-commit) (2.5.22)\n",
      "Requirement already satisfied: cfgv>=2.0.0 in c:\\users\\piotr\\anaconda3\\envs\\py10\\lib\\site-packages (from pre-commit) (3.3.1)\n",
      "Requirement already satisfied: virtualenv>=20.10.0 in c:\\users\\piotr\\anaconda3\\envs\\py10\\lib\\site-packages (from pre-commit) (20.21.0)\n",
      "Requirement already satisfied: pyyaml>=5.1 in c:\\users\\piotr\\anaconda3\\envs\\py10\\lib\\site-packages (from pre-commit) (6.0)\n",
      "Requirement already satisfied: setuptools in c:\\users\\piotr\\anaconda3\\envs\\py10\\lib\\site-packages (from nodeenv>=0.11.1->pre-commit) (58.0.4)\n",
      "Requirement already satisfied: filelock<4,>=3.4.1 in c:\\users\\piotr\\anaconda3\\envs\\py10\\lib\\site-packages (from virtualenv>=20.10.0->pre-commit) (3.9.0)\n",
      "Requirement already satisfied: platformdirs<4,>=2.4 in c:\\users\\piotr\\anaconda3\\envs\\py10\\lib\\site-packages (from virtualenv>=20.10.0->pre-commit) (3.2.0)\n",
      "Requirement already satisfied: distlib<1,>=0.3.6 in c:\\users\\piotr\\anaconda3\\envs\\py10\\lib\\site-packages (from virtualenv>=20.10.0->pre-commit) (0.3.6)\n",
      "Requirement already satisfied: plotly in c:\\users\\piotr\\anaconda3\\envs\\py10\\lib\\site-packages (5.15.0)\n",
      "Requirement already satisfied: tenacity>=6.2.0 in c:\\users\\piotr\\anaconda3\\envs\\py10\\lib\\site-packages (from plotly) (8.0.1)\n",
      "Requirement already satisfied: packaging in c:\\users\\piotr\\anaconda3\\envs\\py10\\lib\\site-packages (from plotly) (23.1)\n",
      "Requirement already satisfied: tdc in c:\\users\\piotr\\anaconda3\\envs\\py10\\lib\\site-packages (0.1)\n",
      "Requirement already satisfied: boto3 in c:\\users\\piotr\\anaconda3\\envs\\py10\\lib\\site-packages (from tdc) (1.26.113)\n",
      "Requirement already satisfied: chatterbot in c:\\users\\piotr\\anaconda3\\envs\\py10\\lib\\site-packages (from tdc) (0.7.4)\n",
      "Requirement already satisfied: wikipedia in c:\\users\\piotr\\anaconda3\\envs\\py10\\lib\\site-packages (from tdc) (1.4.0)\n",
      "Requirement already satisfied: speechrecognition in c:\\users\\piotr\\anaconda3\\envs\\py10\\lib\\site-packages (from tdc) (3.10.0)\n",
      "Requirement already satisfied: requests in c:\\users\\piotr\\anaconda3\\envs\\py10\\lib\\site-packages (from tdc) (2.28.1)\n",
      "Requirement already satisfied: google-speech in c:\\users\\piotr\\anaconda3\\envs\\py10\\lib\\site-packages (from tdc) (1.1.0)\n",
      "Requirement already satisfied: python-vlc in c:\\users\\piotr\\anaconda3\\envs\\py10\\lib\\site-packages (from tdc) (3.0.18121)\n",
      "Requirement already satisfied: pyserial in c:\\users\\piotr\\anaconda3\\envs\\py10\\lib\\site-packages (from tdc) (3.5)\n",
      "Requirement already satisfied: botocore<1.30.0,>=1.29.113 in c:\\users\\piotr\\anaconda3\\envs\\py10\\lib\\site-packages (from boto3->tdc) (1.29.113)\n",
      "Requirement already satisfied: jmespath<2.0.0,>=0.7.1 in c:\\users\\piotr\\anaconda3\\envs\\py10\\lib\\site-packages (from boto3->tdc) (1.0.1)\n",
      "Requirement already satisfied: s3transfer<0.7.0,>=0.6.0 in c:\\users\\piotr\\anaconda3\\envs\\py10\\lib\\site-packages (from boto3->tdc) (0.6.0)\n",
      "Requirement already satisfied: python-dateutil<3.0.0,>=2.1 in c:\\users\\piotr\\anaconda3\\envs\\py10\\lib\\site-packages (from botocore<1.30.0,>=1.29.113->boto3->tdc) (2.8.2)\n",
      "Requirement already satisfied: urllib3<1.27,>=1.25.4 in c:\\users\\piotr\\anaconda3\\envs\\py10\\lib\\site-packages (from botocore<1.30.0,>=1.29.113->boto3->tdc) (1.26.13)\n",
      "Requirement already satisfied: six>=1.5 in c:\\users\\piotr\\anaconda3\\envs\\py10\\lib\\site-packages (from python-dateutil<3.0.0,>=2.1->botocore<1.30.0,>=1.29.113->boto3->tdc) (1.16.0)\n",
      "Requirement already satisfied: nltk<4.0,>=3.2 in c:\\users\\piotr\\anaconda3\\envs\\py10\\lib\\site-packages (from chatterbot->tdc) (3.7)\n",
      "Requirement already satisfied: python-twitter<4.0,>=3.0 in c:\\users\\piotr\\anaconda3\\envs\\py10\\lib\\site-packages (from chatterbot->tdc) (3.5)\n",
      "Requirement already satisfied: sqlalchemy<1.2,>=1.1 in c:\\users\\piotr\\anaconda3\\envs\\py10\\lib\\site-packages (from chatterbot->tdc) (1.1.18)\n",
      "Requirement already satisfied: jsondatabase<1.0.0,>=0.1.7 in c:\\users\\piotr\\anaconda3\\envs\\py10\\lib\\site-packages (from chatterbot->tdc) (0.1.7)\n",
      "Requirement already satisfied: chatterbot-corpus<1.1,>=1.0 in c:\\users\\piotr\\anaconda3\\envs\\py10\\lib\\site-packages (from chatterbot->tdc) (1.0.1)\n",
      "Requirement already satisfied: pymongo<4.0,>=3.3 in c:\\users\\piotr\\anaconda3\\envs\\py10\\lib\\site-packages (from chatterbot->tdc) (3.13.0)\n",
      "Requirement already satisfied: ruamel.yaml<=0.15 in c:\\users\\piotr\\anaconda3\\envs\\py10\\lib\\site-packages (from chatterbot-corpus<1.1,>=1.0->chatterbot->tdc) (0.11.10)\n",
      "Requirement already satisfied: tqdm in c:\\users\\piotr\\anaconda3\\envs\\py10\\lib\\site-packages (from nltk<4.0,>=3.2->chatterbot->tdc) (4.64.1)\n",
      "Requirement already satisfied: click in c:\\users\\piotr\\anaconda3\\envs\\py10\\lib\\site-packages (from nltk<4.0,>=3.2->chatterbot->tdc) (8.1.3)\n",
      "Requirement already satisfied: regex>=2021.8.3 in c:\\users\\piotr\\anaconda3\\envs\\py10\\lib\\site-packages (from nltk<4.0,>=3.2->chatterbot->tdc) (2022.3.15)\n",
      "Requirement already satisfied: joblib in c:\\users\\piotr\\anaconda3\\envs\\py10\\lib\\site-packages (from nltk<4.0,>=3.2->chatterbot->tdc) (1.2.0)\n",
      "Requirement already satisfied: requests-oauthlib in c:\\users\\piotr\\anaconda3\\envs\\py10\\lib\\site-packages (from python-twitter<4.0,>=3.0->chatterbot->tdc) (1.3.1)\n",
      "Requirement already satisfied: future in c:\\users\\piotr\\anaconda3\\envs\\py10\\lib\\site-packages (from python-twitter<4.0,>=3.0->chatterbot->tdc) (0.18.2)\n",
      "Requirement already satisfied: colorama in c:\\users\\piotr\\anaconda3\\envs\\py10\\lib\\site-packages (from click->nltk<4.0,>=3.2->chatterbot->tdc) (0.4.4)\n",
      "Requirement already satisfied: appdirs>=1.4.0 in c:\\users\\piotr\\anaconda3\\envs\\py10\\lib\\site-packages (from google-speech->tdc) (1.4.4)\n",
      "Requirement already satisfied: web-cache>=1.1.0 in c:\\users\\piotr\\anaconda3\\envs\\py10\\lib\\site-packages (from google-speech->tdc) (1.1.0)\n",
      "Requirement already satisfied: certifi>=2017.4.17 in c:\\users\\piotr\\anaconda3\\envs\\py10\\lib\\site-packages (from requests->tdc) (2022.9.24)\n",
      "Requirement already satisfied: idna<4,>=2.5 in c:\\users\\piotr\\anaconda3\\envs\\py10\\lib\\site-packages (from requests->tdc) (3.4)\n",
      "Requirement already satisfied: charset-normalizer<3,>=2 in c:\\users\\piotr\\anaconda3\\envs\\py10\\lib\\site-packages (from requests->tdc) (2.1.1)\n",
      "Requirement already satisfied: oauthlib>=3.0.0 in c:\\users\\piotr\\anaconda3\\envs\\py10\\lib\\site-packages (from requests-oauthlib->python-twitter<4.0,>=3.0->chatterbot->tdc) (3.2.0)\n",
      "Requirement already satisfied: beautifulsoup4 in c:\\users\\piotr\\anaconda3\\envs\\py10\\lib\\site-packages (from wikipedia->tdc) (4.11.1)\n",
      "Requirement already satisfied: soupsieve>1.2 in c:\\users\\piotr\\anaconda3\\envs\\py10\\lib\\site-packages (from beautifulsoup4->wikipedia->tdc) (2.3.1)\n",
      "Requirement already satisfied: ogb in c:\\users\\piotr\\anaconda3\\envs\\py10\\lib\\site-packages (1.3.6)\n",
      "Requirement already satisfied: six>=1.12.0 in c:\\users\\piotr\\anaconda3\\envs\\py10\\lib\\site-packages (from ogb) (1.16.0)\n",
      "Requirement already satisfied: numpy>=1.16.0 in c:\\users\\piotr\\anaconda3\\envs\\py10\\lib\\site-packages (from ogb) (1.25.0)\n",
      "Requirement already satisfied: outdated>=0.2.0 in c:\\users\\piotr\\anaconda3\\envs\\py10\\lib\\site-packages (from ogb) (0.2.2)\n",
      "Requirement already satisfied: scikit-learn>=0.20.0 in c:\\users\\piotr\\anaconda3\\envs\\py10\\lib\\site-packages (from ogb) (1.2.2)\n",
      "Requirement already satisfied: tqdm>=4.29.0 in c:\\users\\piotr\\anaconda3\\envs\\py10\\lib\\site-packages (from ogb) (4.64.1)\n",
      "Requirement already satisfied: torch>=1.6.0 in c:\\users\\piotr\\anaconda3\\envs\\py10\\lib\\site-packages (from ogb) (1.13.0)\n",
      "Requirement already satisfied: pandas>=0.24.0 in c:\\users\\piotr\\anaconda3\\envs\\py10\\lib\\site-packages (from ogb) (2.0.2)\n",
      "Requirement already satisfied: urllib3>=1.24.0 in c:\\users\\piotr\\anaconda3\\envs\\py10\\lib\\site-packages (from ogb) (1.26.13)\n",
      "Requirement already satisfied: requests in c:\\users\\piotr\\anaconda3\\envs\\py10\\lib\\site-packages (from outdated>=0.2.0->ogb) (2.28.1)\n",
      "Requirement already satisfied: littleutils in c:\\users\\piotr\\anaconda3\\envs\\py10\\lib\\site-packages (from outdated>=0.2.0->ogb) (0.2.2)\n",
      "Requirement already satisfied: setuptools>=44 in c:\\users\\piotr\\anaconda3\\envs\\py10\\lib\\site-packages (from outdated>=0.2.0->ogb) (58.0.4)\n",
      "Requirement already satisfied: tzdata>=2022.1 in c:\\users\\piotr\\anaconda3\\envs\\py10\\lib\\site-packages (from pandas>=0.24.0->ogb) (2023.3)\n",
      "Requirement already satisfied: python-dateutil>=2.8.2 in c:\\users\\piotr\\anaconda3\\envs\\py10\\lib\\site-packages (from pandas>=0.24.0->ogb) (2.8.2)\n",
      "Requirement already satisfied: pytz>=2020.1 in c:\\users\\piotr\\anaconda3\\envs\\py10\\lib\\site-packages (from pandas>=0.24.0->ogb) (2021.3)\n",
      "Requirement already satisfied: joblib>=1.1.1 in c:\\users\\piotr\\anaconda3\\envs\\py10\\lib\\site-packages (from scikit-learn>=0.20.0->ogb) (1.2.0)\n",
      "Requirement already satisfied: threadpoolctl>=2.0.0 in c:\\users\\piotr\\anaconda3\\envs\\py10\\lib\\site-packages (from scikit-learn>=0.20.0->ogb) (3.1.0)\n",
      "Requirement already satisfied: scipy>=1.3.2 in c:\\users\\piotr\\anaconda3\\envs\\py10\\lib\\site-packages (from scikit-learn>=0.20.0->ogb) (1.10.1)\n",
      "Requirement already satisfied: typing_extensions in c:\\users\\piotr\\anaconda3\\envs\\py10\\lib\\site-packages (from torch>=1.6.0->ogb) (4.1.1)\n",
      "Requirement already satisfied: colorama in c:\\users\\piotr\\anaconda3\\envs\\py10\\lib\\site-packages (from tqdm>=4.29.0->ogb) (0.4.4)\n",
      "Requirement already satisfied: charset-normalizer<3,>=2 in c:\\users\\piotr\\anaconda3\\envs\\py10\\lib\\site-packages (from requests->outdated>=0.2.0->ogb) (2.1.1)\n",
      "Requirement already satisfied: idna<4,>=2.5 in c:\\users\\piotr\\anaconda3\\envs\\py10\\lib\\site-packages (from requests->outdated>=0.2.0->ogb) (3.4)\n",
      "Requirement already satisfied: certifi>=2017.4.17 in c:\\users\\piotr\\anaconda3\\envs\\py10\\lib\\site-packages (from requests->outdated>=0.2.0->ogb) (2022.9.24)\n"
     ]
    }
   ],
   "source": [
    "# !pip3 install -U torch_geometric\n",
    "# !pip3 install -U torch-scatter\n",
    "# !pip3 install -U torch-sparse\n",
    "# !pip3 install -U pandas\n",
    "# !pip3 install -U numpy\n",
    "# !pip3 install -U matplotlib\n",
    "# !pip3 install -U sklearn\n",
    "# !pip3 install -U PyTDC \n",
    "# !pip3 install -U pre-commit\n",
    "# !pip3 install -U plotly\n",
    "# !pip3 install -U tdc \n",
    "# !pip3 install -U ogb"
   ]
  },
  {
   "cell_type": "code",
   "execution_count": 2,
   "id": "f912afb8",
   "metadata": {},
   "outputs": [],
   "source": [
    "import matplotlib.pyplot as plt\n",
    "import numpy as np\n",
    "import pandas as pd\n",
    "import rdkit\n",
    "\n",
    "from ogb.graphproppred import PygGraphPropPredDataset\n",
    "from sklearn.ensemble import RandomForestClassifier\n",
    "from sklearn.metrics import roc_auc_score, average_precision_score\n",
    "from sklearn.model_selection import train_test_split\n",
    "from sklearn.multioutput import MultiOutputClassifier\n",
    "from tdc.single_pred import Tox\n",
    "from rdkit.Chem import AllChem\n",
    "from rdkit import Chem\n",
    "\n",
    "from time import time"
   ]
  },
  {
   "cell_type": "code",
   "execution_count": 3,
   "id": "c01e1766",
   "metadata": {},
   "outputs": [],
   "source": [
    "from featurizers.fingerprints import (\n",
    "    MorganFingerprint,\n",
    "    MACCSKeysFingerprint,\n",
    "    AtomPairFingerprint,\n",
    "    TopologicalTorsionFingerprint,\n",
    "    ERGFingerprint,\n",
    ")"
   ]
  },
  {
   "cell_type": "code",
   "execution_count": 20,
   "id": "a39a4ec6",
   "metadata": {},
   "outputs": [
    {
     "name": "stdout",
     "output_type": "stream",
     "text": [
      "ogbg-molhiv has been updated.\n",
      "Will you update the dataset now? (y/N)\n",
      "y\n"
     ]
    },
    {
     "ename": "TypeError",
     "evalue": "int() argument must be a string, a bytes-like object or a real number, not 'NoneType'",
     "output_type": "error",
     "traceback": [
      "\u001b[1;31m---------------------------------------------------------------------------\u001b[0m",
      "\u001b[1;31mTypeError\u001b[0m                                 Traceback (most recent call last)",
      "\u001b[1;32m~\\AppData\\Local\\Temp\\ipykernel_13372\\2514299253.py\u001b[0m in \u001b[0;36m<cell line: 1>\u001b[1;34m()\u001b[0m\n\u001b[1;32m----> 1\u001b[1;33m \u001b[0mdataset\u001b[0m \u001b[1;33m=\u001b[0m \u001b[0mPygGraphPropPredDataset\u001b[0m\u001b[1;33m(\u001b[0m\u001b[0mname\u001b[0m \u001b[1;33m=\u001b[0m \u001b[1;34m\"ogbg-molhiv\"\u001b[0m\u001b[1;33m,\u001b[0m \u001b[0mroot\u001b[0m\u001b[1;33m=\u001b[0m\u001b[1;34m\"./datasets\"\u001b[0m\u001b[1;33m)\u001b[0m\u001b[1;33m\u001b[0m\u001b[1;33m\u001b[0m\u001b[0m\n\u001b[0m",
      "\u001b[1;32m~\\anaconda3\\envs\\py10\\lib\\site-packages\\ogb\\graphproppred\\dataset_pyg.py\u001b[0m in \u001b[0;36m__init__\u001b[1;34m(self, name, root, transform, pre_transform, meta_dict)\u001b[0m\n\u001b[0;32m     64\u001b[0m         \u001b[0mself\u001b[0m\u001b[1;33m.\u001b[0m\u001b[0mbinary\u001b[0m \u001b[1;33m=\u001b[0m \u001b[0mself\u001b[0m\u001b[1;33m.\u001b[0m\u001b[0mmeta_info\u001b[0m\u001b[1;33m[\u001b[0m\u001b[1;34m'binary'\u001b[0m\u001b[1;33m]\u001b[0m \u001b[1;33m==\u001b[0m \u001b[1;34m'True'\u001b[0m\u001b[1;33m\u001b[0m\u001b[1;33m\u001b[0m\u001b[0m\n\u001b[0;32m     65\u001b[0m \u001b[1;33m\u001b[0m\u001b[0m\n\u001b[1;32m---> 66\u001b[1;33m         \u001b[0msuper\u001b[0m\u001b[1;33m(\u001b[0m\u001b[0mPygGraphPropPredDataset\u001b[0m\u001b[1;33m,\u001b[0m \u001b[0mself\u001b[0m\u001b[1;33m)\u001b[0m\u001b[1;33m.\u001b[0m\u001b[0m__init__\u001b[0m\u001b[1;33m(\u001b[0m\u001b[0mself\u001b[0m\u001b[1;33m.\u001b[0m\u001b[0mroot\u001b[0m\u001b[1;33m,\u001b[0m \u001b[0mtransform\u001b[0m\u001b[1;33m,\u001b[0m \u001b[0mpre_transform\u001b[0m\u001b[1;33m)\u001b[0m\u001b[1;33m\u001b[0m\u001b[1;33m\u001b[0m\u001b[0m\n\u001b[0m\u001b[0;32m     67\u001b[0m \u001b[1;33m\u001b[0m\u001b[0m\n\u001b[0;32m     68\u001b[0m         \u001b[0mself\u001b[0m\u001b[1;33m.\u001b[0m\u001b[0mdata\u001b[0m\u001b[1;33m,\u001b[0m \u001b[0mself\u001b[0m\u001b[1;33m.\u001b[0m\u001b[0mslices\u001b[0m \u001b[1;33m=\u001b[0m \u001b[0mtorch\u001b[0m\u001b[1;33m.\u001b[0m\u001b[0mload\u001b[0m\u001b[1;33m(\u001b[0m\u001b[0mself\u001b[0m\u001b[1;33m.\u001b[0m\u001b[0mprocessed_paths\u001b[0m\u001b[1;33m[\u001b[0m\u001b[1;36m0\u001b[0m\u001b[1;33m]\u001b[0m\u001b[1;33m)\u001b[0m\u001b[1;33m\u001b[0m\u001b[1;33m\u001b[0m\u001b[0m\n",
      "\u001b[1;32m~\\anaconda3\\envs\\py10\\lib\\site-packages\\torch_geometric\\data\\in_memory_dataset.py\u001b[0m in \u001b[0;36m__init__\u001b[1;34m(self, root, transform, pre_transform, pre_filter, log)\u001b[0m\n\u001b[0;32m     55\u001b[0m         \u001b[0mlog\u001b[0m\u001b[1;33m:\u001b[0m \u001b[0mbool\u001b[0m \u001b[1;33m=\u001b[0m \u001b[1;32mTrue\u001b[0m\u001b[1;33m,\u001b[0m\u001b[1;33m\u001b[0m\u001b[1;33m\u001b[0m\u001b[0m\n\u001b[0;32m     56\u001b[0m     ):\n\u001b[1;32m---> 57\u001b[1;33m         \u001b[0msuper\u001b[0m\u001b[1;33m(\u001b[0m\u001b[1;33m)\u001b[0m\u001b[1;33m.\u001b[0m\u001b[0m__init__\u001b[0m\u001b[1;33m(\u001b[0m\u001b[0mroot\u001b[0m\u001b[1;33m,\u001b[0m \u001b[0mtransform\u001b[0m\u001b[1;33m,\u001b[0m \u001b[0mpre_transform\u001b[0m\u001b[1;33m,\u001b[0m \u001b[0mpre_filter\u001b[0m\u001b[1;33m,\u001b[0m \u001b[0mlog\u001b[0m\u001b[1;33m)\u001b[0m\u001b[1;33m\u001b[0m\u001b[1;33m\u001b[0m\u001b[0m\n\u001b[0m\u001b[0;32m     58\u001b[0m         \u001b[0mself\u001b[0m\u001b[1;33m.\u001b[0m\u001b[0m_data\u001b[0m \u001b[1;33m=\u001b[0m \u001b[1;32mNone\u001b[0m\u001b[1;33m\u001b[0m\u001b[1;33m\u001b[0m\u001b[0m\n\u001b[0;32m     59\u001b[0m         \u001b[0mself\u001b[0m\u001b[1;33m.\u001b[0m\u001b[0mslices\u001b[0m \u001b[1;33m=\u001b[0m \u001b[1;32mNone\u001b[0m\u001b[1;33m\u001b[0m\u001b[1;33m\u001b[0m\u001b[0m\n",
      "\u001b[1;32m~\\anaconda3\\envs\\py10\\lib\\site-packages\\torch_geometric\\data\\dataset.py\u001b[0m in \u001b[0;36m__init__\u001b[1;34m(self, root, transform, pre_transform, pre_filter, log)\u001b[0m\n\u001b[0;32m     92\u001b[0m \u001b[1;33m\u001b[0m\u001b[0m\n\u001b[0;32m     93\u001b[0m         \u001b[1;32mif\u001b[0m \u001b[0mself\u001b[0m\u001b[1;33m.\u001b[0m\u001b[0mhas_download\u001b[0m\u001b[1;33m:\u001b[0m\u001b[1;33m\u001b[0m\u001b[1;33m\u001b[0m\u001b[0m\n\u001b[1;32m---> 94\u001b[1;33m             \u001b[0mself\u001b[0m\u001b[1;33m.\u001b[0m\u001b[0m_download\u001b[0m\u001b[1;33m(\u001b[0m\u001b[1;33m)\u001b[0m\u001b[1;33m\u001b[0m\u001b[1;33m\u001b[0m\u001b[0m\n\u001b[0m\u001b[0;32m     95\u001b[0m \u001b[1;33m\u001b[0m\u001b[0m\n\u001b[0;32m     96\u001b[0m         \u001b[1;32mif\u001b[0m \u001b[0mself\u001b[0m\u001b[1;33m.\u001b[0m\u001b[0mhas_process\u001b[0m\u001b[1;33m:\u001b[0m\u001b[1;33m\u001b[0m\u001b[1;33m\u001b[0m\u001b[0m\n",
      "\u001b[1;32m~\\anaconda3\\envs\\py10\\lib\\site-packages\\torch_geometric\\data\\dataset.py\u001b[0m in \u001b[0;36m_download\u001b[1;34m(self)\u001b[0m\n\u001b[0;32m    197\u001b[0m \u001b[1;33m\u001b[0m\u001b[0m\n\u001b[0;32m    198\u001b[0m         \u001b[0mmakedirs\u001b[0m\u001b[1;33m(\u001b[0m\u001b[0mself\u001b[0m\u001b[1;33m.\u001b[0m\u001b[0mraw_dir\u001b[0m\u001b[1;33m)\u001b[0m\u001b[1;33m\u001b[0m\u001b[1;33m\u001b[0m\u001b[0m\n\u001b[1;32m--> 199\u001b[1;33m         \u001b[0mself\u001b[0m\u001b[1;33m.\u001b[0m\u001b[0mdownload\u001b[0m\u001b[1;33m(\u001b[0m\u001b[1;33m)\u001b[0m\u001b[1;33m\u001b[0m\u001b[1;33m\u001b[0m\u001b[0m\n\u001b[0m\u001b[0;32m    200\u001b[0m \u001b[1;33m\u001b[0m\u001b[0m\n\u001b[0;32m    201\u001b[0m     \u001b[1;33m@\u001b[0m\u001b[0mproperty\u001b[0m\u001b[1;33m\u001b[0m\u001b[1;33m\u001b[0m\u001b[0m\n",
      "\u001b[1;32m~\\anaconda3\\envs\\py10\\lib\\site-packages\\ogb\\graphproppred\\dataset_pyg.py\u001b[0m in \u001b[0;36mdownload\u001b[1;34m(self)\u001b[0m\n\u001b[0;32m    106\u001b[0m     \u001b[1;32mdef\u001b[0m \u001b[0mdownload\u001b[0m\u001b[1;33m(\u001b[0m\u001b[0mself\u001b[0m\u001b[1;33m)\u001b[0m\u001b[1;33m:\u001b[0m\u001b[1;33m\u001b[0m\u001b[1;33m\u001b[0m\u001b[0m\n\u001b[0;32m    107\u001b[0m         \u001b[0murl\u001b[0m \u001b[1;33m=\u001b[0m \u001b[0mself\u001b[0m\u001b[1;33m.\u001b[0m\u001b[0mmeta_info\u001b[0m\u001b[1;33m[\u001b[0m\u001b[1;34m'url'\u001b[0m\u001b[1;33m]\u001b[0m\u001b[1;33m\u001b[0m\u001b[1;33m\u001b[0m\u001b[0m\n\u001b[1;32m--> 108\u001b[1;33m         \u001b[1;32mif\u001b[0m \u001b[0mdecide_download\u001b[0m\u001b[1;33m(\u001b[0m\u001b[0murl\u001b[0m\u001b[1;33m)\u001b[0m\u001b[1;33m:\u001b[0m\u001b[1;33m\u001b[0m\u001b[1;33m\u001b[0m\u001b[0m\n\u001b[0m\u001b[0;32m    109\u001b[0m             \u001b[0mpath\u001b[0m \u001b[1;33m=\u001b[0m \u001b[0mdownload_url\u001b[0m\u001b[1;33m(\u001b[0m\u001b[0murl\u001b[0m\u001b[1;33m,\u001b[0m \u001b[0mself\u001b[0m\u001b[1;33m.\u001b[0m\u001b[0moriginal_root\u001b[0m\u001b[1;33m)\u001b[0m\u001b[1;33m\u001b[0m\u001b[1;33m\u001b[0m\u001b[0m\n\u001b[0;32m    110\u001b[0m             \u001b[0mextract_zip\u001b[0m\u001b[1;33m(\u001b[0m\u001b[0mpath\u001b[0m\u001b[1;33m,\u001b[0m \u001b[0mself\u001b[0m\u001b[1;33m.\u001b[0m\u001b[0moriginal_root\u001b[0m\u001b[1;33m)\u001b[0m\u001b[1;33m\u001b[0m\u001b[1;33m\u001b[0m\u001b[0m\n",
      "\u001b[1;32m~\\anaconda3\\envs\\py10\\lib\\site-packages\\ogb\\utils\\url.py\u001b[0m in \u001b[0;36mdecide_download\u001b[1;34m(url)\u001b[0m\n\u001b[0;32m     11\u001b[0m \u001b[1;32mdef\u001b[0m \u001b[0mdecide_download\u001b[0m\u001b[1;33m(\u001b[0m\u001b[0murl\u001b[0m\u001b[1;33m)\u001b[0m\u001b[1;33m:\u001b[0m\u001b[1;33m\u001b[0m\u001b[1;33m\u001b[0m\u001b[0m\n\u001b[0;32m     12\u001b[0m     \u001b[0md\u001b[0m \u001b[1;33m=\u001b[0m \u001b[0mur\u001b[0m\u001b[1;33m.\u001b[0m\u001b[0murlopen\u001b[0m\u001b[1;33m(\u001b[0m\u001b[0murl\u001b[0m\u001b[1;33m)\u001b[0m\u001b[1;33m\u001b[0m\u001b[1;33m\u001b[0m\u001b[0m\n\u001b[1;32m---> 13\u001b[1;33m     \u001b[0msize\u001b[0m \u001b[1;33m=\u001b[0m \u001b[0mint\u001b[0m\u001b[1;33m(\u001b[0m\u001b[0md\u001b[0m\u001b[1;33m.\u001b[0m\u001b[0minfo\u001b[0m\u001b[1;33m(\u001b[0m\u001b[1;33m)\u001b[0m\u001b[1;33m[\u001b[0m\u001b[1;34m\"Content-Length\"\u001b[0m\u001b[1;33m]\u001b[0m\u001b[1;33m)\u001b[0m\u001b[1;33m/\u001b[0m\u001b[0mGBFACTOR\u001b[0m\u001b[1;33m\u001b[0m\u001b[1;33m\u001b[0m\u001b[0m\n\u001b[0m\u001b[0;32m     14\u001b[0m \u001b[1;33m\u001b[0m\u001b[0m\n\u001b[0;32m     15\u001b[0m     \u001b[1;31m### confirm if larger than 1GB\u001b[0m\u001b[1;33m\u001b[0m\u001b[1;33m\u001b[0m\u001b[0m\n",
      "\u001b[1;31mTypeError\u001b[0m: int() argument must be a string, a bytes-like object or a real number, not 'NoneType'"
     ]
    }
   ],
   "source": [
    "dataset = PygGraphPropPredDataset(name = \"ogbg-molhiv\", root=\"./datasets\")"
   ]
  },
  {
   "cell_type": "code",
   "execution_count": 7,
   "id": "39abe66b",
   "metadata": {},
   "outputs": [
    {
     "ename": "FileNotFoundError",
     "evalue": "[Errno 2] No such file or directory: '.\\\\dataset\\\\ogbg_molhiv\\\\mapping\\\\mol.csv.gz'",
     "output_type": "error",
     "traceback": [
      "\u001b[1;31m---------------------------------------------------------------------------\u001b[0m",
      "\u001b[1;31mFileNotFoundError\u001b[0m                         Traceback (most recent call last)",
      "\u001b[1;32m~\\AppData\\Local\\Temp\\ipykernel_13372\\4290393479.py\u001b[0m in \u001b[0;36m<cell line: 1>\u001b[1;34m()\u001b[0m\n\u001b[1;32m----> 1\u001b[1;33m \u001b[0mhiv_df\u001b[0m \u001b[1;33m=\u001b[0m \u001b[0mpd\u001b[0m\u001b[1;33m.\u001b[0m\u001b[0mread_csv\u001b[0m\u001b[1;33m(\u001b[0m\u001b[1;34m\".\\dataset\\ogbg_molhiv\\mapping\\mol.csv.gz\"\u001b[0m\u001b[1;33m)\u001b[0m\u001b[1;33m\u001b[0m\u001b[1;33m\u001b[0m\u001b[0m\n\u001b[0m",
      "\u001b[1;32m~\\anaconda3\\envs\\py10\\lib\\site-packages\\pandas\\io\\parsers\\readers.py\u001b[0m in \u001b[0;36mread_csv\u001b[1;34m(filepath_or_buffer, sep, delimiter, header, names, index_col, usecols, dtype, engine, converters, true_values, false_values, skipinitialspace, skiprows, skipfooter, nrows, na_values, keep_default_na, na_filter, verbose, skip_blank_lines, parse_dates, infer_datetime_format, keep_date_col, date_parser, date_format, dayfirst, cache_dates, iterator, chunksize, compression, thousands, decimal, lineterminator, quotechar, quoting, doublequote, escapechar, comment, encoding, encoding_errors, dialect, on_bad_lines, delim_whitespace, low_memory, memory_map, float_precision, storage_options, dtype_backend)\u001b[0m\n\u001b[0;32m    910\u001b[0m     \u001b[0mkwds\u001b[0m\u001b[1;33m.\u001b[0m\u001b[0mupdate\u001b[0m\u001b[1;33m(\u001b[0m\u001b[0mkwds_defaults\u001b[0m\u001b[1;33m)\u001b[0m\u001b[1;33m\u001b[0m\u001b[1;33m\u001b[0m\u001b[0m\n\u001b[0;32m    911\u001b[0m \u001b[1;33m\u001b[0m\u001b[0m\n\u001b[1;32m--> 912\u001b[1;33m     \u001b[1;32mreturn\u001b[0m \u001b[0m_read\u001b[0m\u001b[1;33m(\u001b[0m\u001b[0mfilepath_or_buffer\u001b[0m\u001b[1;33m,\u001b[0m \u001b[0mkwds\u001b[0m\u001b[1;33m)\u001b[0m\u001b[1;33m\u001b[0m\u001b[1;33m\u001b[0m\u001b[0m\n\u001b[0m\u001b[0;32m    913\u001b[0m \u001b[1;33m\u001b[0m\u001b[0m\n\u001b[0;32m    914\u001b[0m \u001b[1;33m\u001b[0m\u001b[0m\n",
      "\u001b[1;32m~\\anaconda3\\envs\\py10\\lib\\site-packages\\pandas\\io\\parsers\\readers.py\u001b[0m in \u001b[0;36m_read\u001b[1;34m(filepath_or_buffer, kwds)\u001b[0m\n\u001b[0;32m    575\u001b[0m \u001b[1;33m\u001b[0m\u001b[0m\n\u001b[0;32m    576\u001b[0m     \u001b[1;31m# Create the parser.\u001b[0m\u001b[1;33m\u001b[0m\u001b[1;33m\u001b[0m\u001b[0m\n\u001b[1;32m--> 577\u001b[1;33m     \u001b[0mparser\u001b[0m \u001b[1;33m=\u001b[0m \u001b[0mTextFileReader\u001b[0m\u001b[1;33m(\u001b[0m\u001b[0mfilepath_or_buffer\u001b[0m\u001b[1;33m,\u001b[0m \u001b[1;33m**\u001b[0m\u001b[0mkwds\u001b[0m\u001b[1;33m)\u001b[0m\u001b[1;33m\u001b[0m\u001b[1;33m\u001b[0m\u001b[0m\n\u001b[0m\u001b[0;32m    578\u001b[0m \u001b[1;33m\u001b[0m\u001b[0m\n\u001b[0;32m    579\u001b[0m     \u001b[1;32mif\u001b[0m \u001b[0mchunksize\u001b[0m \u001b[1;32mor\u001b[0m \u001b[0miterator\u001b[0m\u001b[1;33m:\u001b[0m\u001b[1;33m\u001b[0m\u001b[1;33m\u001b[0m\u001b[0m\n",
      "\u001b[1;32m~\\anaconda3\\envs\\py10\\lib\\site-packages\\pandas\\io\\parsers\\readers.py\u001b[0m in \u001b[0;36m__init__\u001b[1;34m(self, f, engine, **kwds)\u001b[0m\n\u001b[0;32m   1405\u001b[0m \u001b[1;33m\u001b[0m\u001b[0m\n\u001b[0;32m   1406\u001b[0m         \u001b[0mself\u001b[0m\u001b[1;33m.\u001b[0m\u001b[0mhandles\u001b[0m\u001b[1;33m:\u001b[0m \u001b[0mIOHandles\u001b[0m \u001b[1;33m|\u001b[0m \u001b[1;32mNone\u001b[0m \u001b[1;33m=\u001b[0m \u001b[1;32mNone\u001b[0m\u001b[1;33m\u001b[0m\u001b[1;33m\u001b[0m\u001b[0m\n\u001b[1;32m-> 1407\u001b[1;33m         \u001b[0mself\u001b[0m\u001b[1;33m.\u001b[0m\u001b[0m_engine\u001b[0m \u001b[1;33m=\u001b[0m \u001b[0mself\u001b[0m\u001b[1;33m.\u001b[0m\u001b[0m_make_engine\u001b[0m\u001b[1;33m(\u001b[0m\u001b[0mf\u001b[0m\u001b[1;33m,\u001b[0m \u001b[0mself\u001b[0m\u001b[1;33m.\u001b[0m\u001b[0mengine\u001b[0m\u001b[1;33m)\u001b[0m\u001b[1;33m\u001b[0m\u001b[1;33m\u001b[0m\u001b[0m\n\u001b[0m\u001b[0;32m   1408\u001b[0m \u001b[1;33m\u001b[0m\u001b[0m\n\u001b[0;32m   1409\u001b[0m     \u001b[1;32mdef\u001b[0m \u001b[0mclose\u001b[0m\u001b[1;33m(\u001b[0m\u001b[0mself\u001b[0m\u001b[1;33m)\u001b[0m \u001b[1;33m->\u001b[0m \u001b[1;32mNone\u001b[0m\u001b[1;33m:\u001b[0m\u001b[1;33m\u001b[0m\u001b[1;33m\u001b[0m\u001b[0m\n",
      "\u001b[1;32m~\\anaconda3\\envs\\py10\\lib\\site-packages\\pandas\\io\\parsers\\readers.py\u001b[0m in \u001b[0;36m_make_engine\u001b[1;34m(self, f, engine)\u001b[0m\n\u001b[0;32m   1659\u001b[0m                 \u001b[1;32mif\u001b[0m \u001b[1;34m\"b\"\u001b[0m \u001b[1;32mnot\u001b[0m \u001b[1;32min\u001b[0m \u001b[0mmode\u001b[0m\u001b[1;33m:\u001b[0m\u001b[1;33m\u001b[0m\u001b[1;33m\u001b[0m\u001b[0m\n\u001b[0;32m   1660\u001b[0m                     \u001b[0mmode\u001b[0m \u001b[1;33m+=\u001b[0m \u001b[1;34m\"b\"\u001b[0m\u001b[1;33m\u001b[0m\u001b[1;33m\u001b[0m\u001b[0m\n\u001b[1;32m-> 1661\u001b[1;33m             self.handles = get_handle(\n\u001b[0m\u001b[0;32m   1662\u001b[0m                 \u001b[0mf\u001b[0m\u001b[1;33m,\u001b[0m\u001b[1;33m\u001b[0m\u001b[1;33m\u001b[0m\u001b[0m\n\u001b[0;32m   1663\u001b[0m                 \u001b[0mmode\u001b[0m\u001b[1;33m,\u001b[0m\u001b[1;33m\u001b[0m\u001b[1;33m\u001b[0m\u001b[0m\n",
      "\u001b[1;32m~\\anaconda3\\envs\\py10\\lib\\site-packages\\pandas\\io\\common.py\u001b[0m in \u001b[0;36mget_handle\u001b[1;34m(path_or_buf, mode, encoding, compression, memory_map, is_text, errors, storage_options)\u001b[0m\n\u001b[0;32m    751\u001b[0m                 \u001b[1;31m# error: Incompatible types in assignment (expression has type\u001b[0m\u001b[1;33m\u001b[0m\u001b[1;33m\u001b[0m\u001b[0m\n\u001b[0;32m    752\u001b[0m                 \u001b[1;31m# \"GzipFile\", variable has type \"Union[str, BaseBuffer]\")\u001b[0m\u001b[1;33m\u001b[0m\u001b[1;33m\u001b[0m\u001b[0m\n\u001b[1;32m--> 753\u001b[1;33m                 handle = gzip.GzipFile(  # type: ignore[assignment]\n\u001b[0m\u001b[0;32m    754\u001b[0m                     \u001b[0mfilename\u001b[0m\u001b[1;33m=\u001b[0m\u001b[0mhandle\u001b[0m\u001b[1;33m,\u001b[0m\u001b[1;33m\u001b[0m\u001b[1;33m\u001b[0m\u001b[0m\n\u001b[0;32m    755\u001b[0m                     \u001b[0mmode\u001b[0m\u001b[1;33m=\u001b[0m\u001b[0mioargs\u001b[0m\u001b[1;33m.\u001b[0m\u001b[0mmode\u001b[0m\u001b[1;33m,\u001b[0m\u001b[1;33m\u001b[0m\u001b[1;33m\u001b[0m\u001b[0m\n",
      "\u001b[1;32m~\\anaconda3\\envs\\py10\\lib\\gzip.py\u001b[0m in \u001b[0;36m__init__\u001b[1;34m(self, filename, mode, compresslevel, fileobj, mtime)\u001b[0m\n\u001b[0;32m    172\u001b[0m             \u001b[0mmode\u001b[0m \u001b[1;33m+=\u001b[0m \u001b[1;34m'b'\u001b[0m\u001b[1;33m\u001b[0m\u001b[1;33m\u001b[0m\u001b[0m\n\u001b[0;32m    173\u001b[0m         \u001b[1;32mif\u001b[0m \u001b[0mfileobj\u001b[0m \u001b[1;32mis\u001b[0m \u001b[1;32mNone\u001b[0m\u001b[1;33m:\u001b[0m\u001b[1;33m\u001b[0m\u001b[1;33m\u001b[0m\u001b[0m\n\u001b[1;32m--> 174\u001b[1;33m             \u001b[0mfileobj\u001b[0m \u001b[1;33m=\u001b[0m \u001b[0mself\u001b[0m\u001b[1;33m.\u001b[0m\u001b[0mmyfileobj\u001b[0m \u001b[1;33m=\u001b[0m \u001b[0mbuiltins\u001b[0m\u001b[1;33m.\u001b[0m\u001b[0mopen\u001b[0m\u001b[1;33m(\u001b[0m\u001b[0mfilename\u001b[0m\u001b[1;33m,\u001b[0m \u001b[0mmode\u001b[0m \u001b[1;32mor\u001b[0m \u001b[1;34m'rb'\u001b[0m\u001b[1;33m)\u001b[0m\u001b[1;33m\u001b[0m\u001b[1;33m\u001b[0m\u001b[0m\n\u001b[0m\u001b[0;32m    175\u001b[0m         \u001b[1;32mif\u001b[0m \u001b[0mfilename\u001b[0m \u001b[1;32mis\u001b[0m \u001b[1;32mNone\u001b[0m\u001b[1;33m:\u001b[0m\u001b[1;33m\u001b[0m\u001b[1;33m\u001b[0m\u001b[0m\n\u001b[0;32m    176\u001b[0m             \u001b[0mfilename\u001b[0m \u001b[1;33m=\u001b[0m \u001b[0mgetattr\u001b[0m\u001b[1;33m(\u001b[0m\u001b[0mfileobj\u001b[0m\u001b[1;33m,\u001b[0m \u001b[1;34m'name'\u001b[0m\u001b[1;33m,\u001b[0m \u001b[1;34m''\u001b[0m\u001b[1;33m)\u001b[0m\u001b[1;33m\u001b[0m\u001b[1;33m\u001b[0m\u001b[0m\n",
      "\u001b[1;31mFileNotFoundError\u001b[0m: [Errno 2] No such file or directory: '.\\\\dataset\\\\ogbg_molhiv\\\\mapping\\\\mol.csv.gz'"
     ]
    }
   ],
   "source": [
    "hiv_df = pd.read_csv(\".\\dataset\\ogbg_molhiv\\mapping\\mol.csv.gz\")"
   ]
  },
  {
   "cell_type": "code",
   "execution_count": null,
   "id": "0a2fd395",
   "metadata": {},
   "outputs": [],
   "source": [
    "hiv_df.head()"
   ]
  },
  {
   "cell_type": "code",
   "execution_count": null,
   "id": "feb9be61",
   "metadata": {},
   "outputs": [],
   "source": [
    "X0 = hiv_df[\"smiles\"]\n",
    "y = hiv_df[\"HIV_active\"]"
   ]
  },
  {
   "cell_type": "code",
   "execution_count": null,
   "id": "c862ba6c",
   "metadata": {},
   "outputs": [],
   "source": [
    "X1 = X0.apply(Chem.MolFromSmiles)"
   ]
  },
  {
   "cell_type": "code",
   "execution_count": null,
   "id": "dc4fe0c8",
   "metadata": {},
   "outputs": [],
   "source": [
    "X1_1 = [AllChem.GetMorganFingerprintAsBitVect(x, 2) for x in X1]\n",
    "X1_1np = np.array(X1_1)\n",
    "X1_1np"
   ]
  },
  {
   "cell_type": "code",
   "execution_count": null,
   "id": "2e7de057",
   "metadata": {},
   "outputs": [],
   "source": [
    "X1_2 = X1.apply(AllChem.GetMorganFingerprintAsBitVect,args=(2,))\n",
    "X1_2np = np.array(list(X1_2)) # // for some reason can't just accept X1_2 ...\n",
    "X1_2np"
   ]
  },
  {
   "cell_type": "code",
   "execution_count": null,
   "id": "84e9c43d",
   "metadata": {},
   "outputs": [],
   "source": [
    "X = X1_2np"
   ]
  },
  {
   "cell_type": "code",
   "execution_count": null,
   "id": "9f4d5862",
   "metadata": {},
   "outputs": [],
   "source": [
    "y.value_counts().plot.bar()"
   ]
  },
  {
   "cell_type": "markdown",
   "id": "79d83625",
   "metadata": {},
   "source": [
    "Might be worth to use proper stratification"
   ]
  },
  {
   "cell_type": "code",
   "execution_count": null,
   "id": "2016caf0",
   "metadata": {},
   "outputs": [],
   "source": [
    "X_train, X_test, y_train, y_test = train_test_split(X, y, test_size=0.2, random_state=0, stratify=y)"
   ]
  },
  {
   "cell_type": "code",
   "execution_count": null,
   "id": "e03a31e0",
   "metadata": {},
   "outputs": [],
   "source": [
    "clf = RandomForestClassifier()\n",
    "\n",
    "start = time()\n",
    "clf.fit(X_train, y_train)\n",
    "end = time()"
   ]
  },
  {
   "cell_type": "code",
   "execution_count": null,
   "id": "7626f27f",
   "metadata": {},
   "outputs": [],
   "source": [
    "print(f\"training time: {end-start}s\")"
   ]
  },
  {
   "cell_type": "code",
   "execution_count": null,
   "id": "4c817f78",
   "metadata": {},
   "outputs": [],
   "source": [
    "print(f\"AUROC: {roc_auc_score(y_test, clf.predict_proba(X_test)[:, 1])}\")"
   ]
  },
  {
   "cell_type": "code",
   "execution_count": null,
   "id": "a5d6571a",
   "metadata": {},
   "outputs": [],
   "source": []
  }
 ],
 "metadata": {
  "kernelspec": {
   "display_name": "Python 3 (ipykernel)",
   "language": "python",
   "name": "python3"
  },
  "language_info": {
   "codemirror_mode": {
    "name": "ipython",
    "version": 3
   },
   "file_extension": ".py",
   "mimetype": "text/x-python",
   "name": "python",
   "nbconvert_exporter": "python",
   "pygments_lexer": "ipython3",
   "version": "3.10.4"
  }
 },
 "nbformat": 4,
 "nbformat_minor": 5
}

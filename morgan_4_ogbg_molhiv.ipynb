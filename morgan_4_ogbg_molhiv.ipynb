{
 "cells": [
  {
   "cell_type": "code",
   "execution_count": 1,
   "id": "73d3d1e3",
   "metadata": {},
   "outputs": [],
   "source": [
    "# !pip3 install torch_geometric\n",
    "# !pip3 install torch-scatter\n",
    "# !pip3 install torch-sparse\n",
    "# !pip install pandas\n",
    "# !pip3 install numpy\n",
    "# !pip3 install matplotlib\n",
    "# !pip3 install sklearn\n",
    "# !pip3 install PyTDC \n",
    "# !pip3 install pre-commit\n",
    "# !pip3 install plotly\n",
    "# !pip3 install tdc \n",
    "# !pip3 install ogb"
   ]
  },
  {
   "cell_type": "code",
   "execution_count": 2,
   "id": "f912afb8",
   "metadata": {},
   "outputs": [],
   "source": [
    "import matplotlib.pyplot as plt\n",
    "import numpy as np\n",
    "import pandas as pd\n",
    "import rdkit\n",
    "\n",
    "from ogb.graphproppred import PygGraphPropPredDataset\n",
    "from sklearn.ensemble import RandomForestClassifier\n",
    "from sklearn.metrics import roc_auc_score, average_precision_score\n",
    "from sklearn.model_selection import train_test_split\n",
    "from sklearn.multioutput import MultiOutputClassifier\n",
    "from tdc.single_pred import Tox\n",
    "from rdkit.Chem import AllChem\n",
    "from rdkit import Chem\n",
    "\n",
    "from time import time\n"
   ]
  },
  {
   "cell_type": "code",
   "execution_count": 16,
   "id": "a39a4ec6",
   "metadata": {},
   "outputs": [
    {
     "data": {
      "text/plain": [
       "PygGraphPropPredDataset(41127)"
      ]
     },
     "execution_count": 16,
     "metadata": {},
     "output_type": "execute_result"
    }
   ],
   "source": [
    "PygGraphPropPredDataset(name=\"ogbg-molhiv\", root=\".\\datasets\")"
   ]
  },
  {
   "cell_type": "code",
   "execution_count": 4,
   "id": "39abe66b",
   "metadata": {},
   "outputs": [],
   "source": [
    "hiv_df = pd.read_csv(\".\\datasets\\ogbg_molhiv\\mapping\\mol.csv.gz\")"
   ]
  },
  {
   "cell_type": "code",
   "execution_count": 5,
   "id": "0a2fd395",
   "metadata": {},
   "outputs": [
    {
     "data": {
      "text/html": [
       "<div>\n",
       "<style scoped>\n",
       "    .dataframe tbody tr th:only-of-type {\n",
       "        vertical-align: middle;\n",
       "    }\n",
       "\n",
       "    .dataframe tbody tr th {\n",
       "        vertical-align: top;\n",
       "    }\n",
       "\n",
       "    .dataframe thead th {\n",
       "        text-align: right;\n",
       "    }\n",
       "</style>\n",
       "<table border=\"1\" class=\"dataframe\">\n",
       "  <thead>\n",
       "    <tr style=\"text-align: right;\">\n",
       "      <th></th>\n",
       "      <th>HIV_active</th>\n",
       "      <th>smiles</th>\n",
       "      <th>mol_id</th>\n",
       "    </tr>\n",
       "  </thead>\n",
       "  <tbody>\n",
       "    <tr>\n",
       "      <th>0</th>\n",
       "      <td>0</td>\n",
       "      <td>CCC1=[O+][Cu-3]2([O+]=C(CC)C1)[O+]=C(CC)CC(CC)...</td>\n",
       "      <td>NaN</td>\n",
       "    </tr>\n",
       "    <tr>\n",
       "      <th>1</th>\n",
       "      <td>0</td>\n",
       "      <td>C(=Cc1ccccc1)C1=[O+][Cu-3]2([O+]=C(C=Cc3ccccc3...</td>\n",
       "      <td>NaN</td>\n",
       "    </tr>\n",
       "    <tr>\n",
       "      <th>2</th>\n",
       "      <td>0</td>\n",
       "      <td>CC(=O)N1c2ccccc2Sc2c1ccc1ccccc21</td>\n",
       "      <td>NaN</td>\n",
       "    </tr>\n",
       "    <tr>\n",
       "      <th>3</th>\n",
       "      <td>0</td>\n",
       "      <td>Nc1ccc(C=Cc2ccc(N)cc2S(=O)(=O)O)c(S(=O)(=O)O)c1</td>\n",
       "      <td>NaN</td>\n",
       "    </tr>\n",
       "    <tr>\n",
       "      <th>4</th>\n",
       "      <td>0</td>\n",
       "      <td>O=S(=O)(O)CCS(=O)(=O)O</td>\n",
       "      <td>NaN</td>\n",
       "    </tr>\n",
       "  </tbody>\n",
       "</table>\n",
       "</div>"
      ],
      "text/plain": [
       "   HIV_active                                             smiles  mol_id\n",
       "0           0  CCC1=[O+][Cu-3]2([O+]=C(CC)C1)[O+]=C(CC)CC(CC)...     NaN\n",
       "1           0  C(=Cc1ccccc1)C1=[O+][Cu-3]2([O+]=C(C=Cc3ccccc3...     NaN\n",
       "2           0                   CC(=O)N1c2ccccc2Sc2c1ccc1ccccc21     NaN\n",
       "3           0    Nc1ccc(C=Cc2ccc(N)cc2S(=O)(=O)O)c(S(=O)(=O)O)c1     NaN\n",
       "4           0                             O=S(=O)(O)CCS(=O)(=O)O     NaN"
      ]
     },
     "execution_count": 5,
     "metadata": {},
     "output_type": "execute_result"
    }
   ],
   "source": [
    "hiv_df.head()"
   ]
  },
  {
   "cell_type": "code",
   "execution_count": 6,
   "id": "feb9be61",
   "metadata": {},
   "outputs": [],
   "source": [
    "X0 = hiv_df[\"smiles\"]\n",
    "y = hiv_df[\"HIV_active\"]"
   ]
  },
  {
   "cell_type": "code",
   "execution_count": 7,
   "id": "c862ba6c",
   "metadata": {},
   "outputs": [
    {
     "name": "stderr",
     "output_type": "stream",
     "text": [
      "[21:54:44] WARNING: not removing hydrogen atom without neighbors\n",
      "[21:54:44] WARNING: not removing hydrogen atom without neighbors\n"
     ]
    }
   ],
   "source": [
    "X1 = X0.apply(Chem.MolFromSmiles)"
   ]
  },
  {
   "cell_type": "code",
   "execution_count": 8,
   "id": "dc4fe0c8",
   "metadata": {},
   "outputs": [
    {
     "data": {
      "text/plain": [
       "array([[0, 0, 0, ..., 0, 0, 0],\n",
       "       [0, 0, 0, ..., 0, 0, 0],\n",
       "       [0, 0, 0, ..., 0, 0, 0],\n",
       "       ...,\n",
       "       [0, 0, 0, ..., 0, 0, 0],\n",
       "       [0, 0, 0, ..., 0, 0, 0],\n",
       "       [0, 0, 0, ..., 1, 0, 1]])"
      ]
     },
     "execution_count": 8,
     "metadata": {},
     "output_type": "execute_result"
    }
   ],
   "source": [
    "X1_1 = [AllChem.GetMorganFingerprintAsBitVect(x, 2) for x in X1]\n",
    "X1_1np = np.array(X1_1)\n",
    "X1_1np"
   ]
  },
  {
   "cell_type": "code",
   "execution_count": 9,
   "id": "2e7de057",
   "metadata": {},
   "outputs": [
    {
     "data": {
      "text/plain": [
       "array([[0, 0, 0, ..., 0, 0, 0],\n",
       "       [0, 0, 0, ..., 0, 0, 0],\n",
       "       [0, 0, 0, ..., 0, 0, 0],\n",
       "       ...,\n",
       "       [0, 0, 0, ..., 0, 0, 0],\n",
       "       [0, 0, 0, ..., 0, 0, 0],\n",
       "       [0, 0, 0, ..., 1, 0, 1]])"
      ]
     },
     "execution_count": 9,
     "metadata": {},
     "output_type": "execute_result"
    }
   ],
   "source": [
    "X1_2 = X1.apply(AllChem.GetMorganFingerprintAsBitVect,args=(2,))\n",
    "X1_2np = np.array(list(X1_2)) # // for some reason can't just accept X1_2 ...\n",
    "X1_2np"
   ]
  },
  {
   "cell_type": "code",
   "execution_count": 10,
   "id": "84e9c43d",
   "metadata": {},
   "outputs": [],
   "source": [
    "X = X1_2np"
   ]
  },
  {
   "cell_type": "code",
   "execution_count": 11,
   "id": "9f4d5862",
   "metadata": {},
   "outputs": [
    {
     "data": {
      "text/plain": [
       "<AxesSubplot:>"
      ]
     },
     "execution_count": 11,
     "metadata": {},
     "output_type": "execute_result"
    },
    {
     "data": {
      "image/png": "[encoded data removed]",
      "text/plain": [
       "<Figure size 432x288 with 1 Axes>"
      ]
     },
     "metadata": {
      "needs_background": "light"
     },
     "output_type": "display_data"
    }
   ],
   "source": [
    "y.value_counts().plot.bar()"
   ]
  },
  {
   "cell_type": "markdown",
   "id": "79d83625",
   "metadata": {},
   "source": [
    "Might be worth to stratify"
   ]
  },
  {
   "cell_type": "code",
   "execution_count": 12,
   "id": "2016caf0",
   "metadata": {},
   "outputs": [],
   "source": [
    "X_train, X_test, y_train, y_test = train_test_split(X, y, test_size=0.2, random_state=0, stratify=y)"
   ]
  },
  {
   "cell_type": "code",
   "execution_count": 13,
   "id": "e03a31e0",
   "metadata": {},
   "outputs": [],
   "source": [
    "clf = RandomForestClassifier()\n",
    "\n",
    "start = time()\n",
    "clf.fit(X_train, y_train)\n",
    "end = time()"
   ]
  },
  {
   "cell_type": "code",
   "execution_count": 14,
   "id": "7626f27f",
   "metadata": {},
   "outputs": [
    {
     "name": "stdout",
     "output_type": "stream",
     "text": [
      "training time: -84.97222638130188s\n"
     ]
    }
   ],
   "source": [
    "print(f\"training time: {start-end}s\")"
   ]
  },
  {
   "cell_type": "code",
   "execution_count": 15,
   "id": "4c817f78",
   "metadata": {},
   "outputs": [
    {
     "name": "stdout",
     "output_type": "stream",
     "text": [
      "AUROC: 0.8083316585236768\n"
     ]
    }
   ],
   "source": [
    "print(f\"AUROC: {roc_auc_score(y_test, clf.predict_proba(X_test)[:, 1])}\")"
   ]
  },
  {
   "cell_type": "code",
   "execution_count": null,
   "id": "a5d6571a",
   "metadata": {},
   "outputs": [],
   "source": []
  }
 ],
 "metadata": {
  "kernelspec": {
   "display_name": "Python 3 (ipykernel)",
   "language": "python",
   "name": "python3"
  },
  "language_info": {
   "codemirror_mode": {
    "name": "ipython",
    "version": 3
   },
   "file_extension": ".py",
   "mimetype": "text/x-python",
   "name": "python",
   "nbconvert_exporter": "python",
   "pygments_lexer": "ipython3",
   "version": "3.10.4"
  }
 },
 "nbformat": 4,
 "nbformat_minor": 5
}
